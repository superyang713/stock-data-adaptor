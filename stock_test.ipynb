{
 "cells": [
  {
   "cell_type": "code",
   "execution_count": 1,
   "metadata": {
    "pycharm": {
     "name": "#%%\n"
    }
   },
   "outputs": [],
   "source": [
    "import os\n",
    "\n",
    "import numpy as np\n",
    "import pandas as pd\n",
    "\n",
    "from ic.stock import Stock\n",
    "from scipy.stats import percentileofscore as ps"
   ]
  },
  {
   "cell_type": "code",
   "execution_count": 2,
   "metadata": {
    "pycharm": {
     "name": "#%%\n"
    }
   },
   "outputs": [],
   "source": [
    "def get_quote(ticks, token):\n",
    "    symbol_groups = list(chunks(ticks, 100))\n",
    "\n",
    "    df = pd.DataFrame()\n",
    "    for symbol_group in symbol_groups:\n",
    "        stock = Stock(token=token, symbols=symbol_group)\n",
    "        result = stock.get_quote()\n",
    "        df = pd.concat([df, result])\n",
    "\n",
    "    return df\n",
    "\n",
    "\n",
    "def get_stats(ticks, token):\n",
    "    symbol_groups = list(chunks(ticks, 100))\n",
    "\n",
    "    df = pd.DataFrame()\n",
    "    for symbol_group in symbol_groups:\n",
    "        stock = Stock(token=token, symbols=symbol_group)\n",
    "        result = stock.get_advanced_stats()\n",
    "        df = pd.concat([df, result])\n",
    "\n",
    "    return df\n",
    "\n",
    "\n",
    "def get_sp_stock_ticks():\n",
    "    \"\"\"\n",
    "    Return:\n",
    "    ----------\n",
    "    ticks: list\n",
    "        A list of ticks (symbols) of fortune 500 companies.\n",
    "    \"\"\"\n",
    "    ticks = pd.read_csv(\"./sp_500_stocks.csv\")[\"Ticker\"]\n",
    "    ticks = list(ticks)\n",
    "    return ticks\n",
    "\n",
    "\n",
    "def chunks(lst, n):\n",
    "    \"\"\"\n",
    "    Yield successive n-sized chunks from lst.\n",
    "    \"\"\"\n",
    "    for i in range(0, len(lst), n):\n",
    "        yield lst[i:i + n]"
   ]
  },
  {
   "cell_type": "code",
   "execution_count": 3,
   "metadata": {
    "pycharm": {
     "name": "#%%\n"
    }
   },
   "outputs": [
    {
     "data": {
      "text/plain": "     avgTotalVolume calculationPrice change changePercent   close closeSource  \\\nA           1788884            close   0.03        0.0002  162.41    lafifcio   \nAAL        44653052            close  -0.93      -0.05022   17.77    fiacfloi   \nAAP          708111            close  -6.17      -0.02473  240.22    filocifa   \nAAPL      112561295            close  -3.71      -0.02145  183.14    lifofica   \nABBV        5887802            close   1.07       0.00859  128.03    ifcaifol   \n...             ...              ...    ...           ...     ...         ...   \nYUM         1507459            close  -1.78      -0.01327  138.34    iclfoifa   \nZBH         1722034            close      1       0.00795  127.68    cfaflioi   \nZBRA         237081            close  -9.58      -0.01567  622.72    lacffioi   \nZION        1350166            close  -2.12      -0.03322   62.08    iacflfio   \nZTS         1575372            close   0.92       0.00409   241.6    filicofa   \n\n          closeTime                         companyName currency delayedPrice  \\\nA     1644361110261           Agilent Technologies Inc.      USD       158.96   \nAAL   1653770650088         American Airlines Group Inc      USD        17.38   \nAAP   1709093176661              Advance Auto Parts Inc      USD       243.53   \nAAPL  1680621767123                           Apple Inc      USD       179.53   \nABBV  1644895799915                          Abbvie Inc      USD       132.27   \n...             ...                                 ...      ...          ...   \nYUM   1691766205018                     Yum Brands Inc.      USD       135.22   \nZBH   1708709823281          Zimmer Biomet Holdings Inc      USD        125.6   \nZBRA  1696267865646  Zebra Technologies Corp. - Class A      USD       617.07   \nZION  1666738268172            Zions Bancorporation N.A      USD         62.2   \nZTS   1697044173675                Zoetis Inc - Class A      USD       232.65   \n\n      ... peRatio previousClose previousVolume               primaryExchange  \\\nA     ...   50.91        162.71        1508966  NEGN CKCE. S HE COXTAORIWKYN   \nAAL   ...   -3.53         18.74       29371460                        ANAQSD   \nAAP   ...   23.97        247.02         732282  .H OGAYKER WIKEEN TXCCNNC OS   \nAAPL  ...   15.78        180.37      117263816                        AADNSQ   \nABBV  ...   30.22        129.57        7338957  ECE.C  IAXCHYSEOGTNWONKNR K    \n...   ...     ...           ...            ...                           ...   \nYUM   ...   26.56        138.14        1311811  OCKENOG CRSH NTXEA NWI. YEKC   \nZBH   ...   32.47        125.72        1702923  AIOECRK W N.E OXHGCCEYKT SNN   \nZBRA  ...   39.13        634.61         222472                        QSNAAD   \nZION  ...    5.89         64.32         552116                        DSAQAN   \nZTS   ...   56.65        239.53        1231360  TIEKHE KOAROWSCYNNX.G EC NC    \n\n     symbol     volume week52High week52Low ytdChange isUSMarketOpen  \nA         A    1456466     180.55    113.59  0.339738          False  \nAAL     AAL   41434373      27.09     15.24   0.09619          False  \nAAP     AAP     915608     249.94    143.67   0.52424          False  \nAAPL   AAPL  154380122     183.22    116.33   0.34438          False  \nABBV   ABBV    8006396     130.34      98.6  0.245723          False  \n...     ...        ...        ...       ...       ...            ...  \nYUM     YUM    1460219     135.31    103.76  0.241765          False  \nZBH     ZBH    1584753      188.8    121.47 -0.188994          False  \nZBRA   ZBRA     304754        633       380  0.597117          False  \nZION   ZION    1442429      70.91     41.21  0.478327          False  \nZTS     ZTS    1212915     234.21     144.3    0.4088          False  \n\n[505 rows x 56 columns]",
      "text/html": "<div>\n<style scoped>\n    .dataframe tbody tr th:only-of-type {\n        vertical-align: middle;\n    }\n\n    .dataframe tbody tr th {\n        vertical-align: top;\n    }\n\n    .dataframe thead th {\n        text-align: right;\n    }\n</style>\n<table border=\"1\" class=\"dataframe\">\n  <thead>\n    <tr style=\"text-align: right;\">\n      <th></th>\n      <th>avgTotalVolume</th>\n      <th>calculationPrice</th>\n      <th>change</th>\n      <th>changePercent</th>\n      <th>close</th>\n      <th>closeSource</th>\n      <th>closeTime</th>\n      <th>companyName</th>\n      <th>currency</th>\n      <th>delayedPrice</th>\n      <th>...</th>\n      <th>peRatio</th>\n      <th>previousClose</th>\n      <th>previousVolume</th>\n      <th>primaryExchange</th>\n      <th>symbol</th>\n      <th>volume</th>\n      <th>week52High</th>\n      <th>week52Low</th>\n      <th>ytdChange</th>\n      <th>isUSMarketOpen</th>\n    </tr>\n  </thead>\n  <tbody>\n    <tr>\n      <th>A</th>\n      <td>1788884</td>\n      <td>close</td>\n      <td>0.03</td>\n      <td>0.0002</td>\n      <td>162.41</td>\n      <td>lafifcio</td>\n      <td>1644361110261</td>\n      <td>Agilent Technologies Inc.</td>\n      <td>USD</td>\n      <td>158.96</td>\n      <td>...</td>\n      <td>50.91</td>\n      <td>162.71</td>\n      <td>1508966</td>\n      <td>NEGN CKCE. S HE COXTAORIWKYN</td>\n      <td>A</td>\n      <td>1456466</td>\n      <td>180.55</td>\n      <td>113.59</td>\n      <td>0.339738</td>\n      <td>False</td>\n    </tr>\n    <tr>\n      <th>AAL</th>\n      <td>44653052</td>\n      <td>close</td>\n      <td>-0.93</td>\n      <td>-0.05022</td>\n      <td>17.77</td>\n      <td>fiacfloi</td>\n      <td>1653770650088</td>\n      <td>American Airlines Group Inc</td>\n      <td>USD</td>\n      <td>17.38</td>\n      <td>...</td>\n      <td>-3.53</td>\n      <td>18.74</td>\n      <td>29371460</td>\n      <td>ANAQSD</td>\n      <td>AAL</td>\n      <td>41434373</td>\n      <td>27.09</td>\n      <td>15.24</td>\n      <td>0.09619</td>\n      <td>False</td>\n    </tr>\n    <tr>\n      <th>AAP</th>\n      <td>708111</td>\n      <td>close</td>\n      <td>-6.17</td>\n      <td>-0.02473</td>\n      <td>240.22</td>\n      <td>filocifa</td>\n      <td>1709093176661</td>\n      <td>Advance Auto Parts Inc</td>\n      <td>USD</td>\n      <td>243.53</td>\n      <td>...</td>\n      <td>23.97</td>\n      <td>247.02</td>\n      <td>732282</td>\n      <td>.H OGAYKER WIKEEN TXCCNNC OS</td>\n      <td>AAP</td>\n      <td>915608</td>\n      <td>249.94</td>\n      <td>143.67</td>\n      <td>0.52424</td>\n      <td>False</td>\n    </tr>\n    <tr>\n      <th>AAPL</th>\n      <td>112561295</td>\n      <td>close</td>\n      <td>-3.71</td>\n      <td>-0.02145</td>\n      <td>183.14</td>\n      <td>lifofica</td>\n      <td>1680621767123</td>\n      <td>Apple Inc</td>\n      <td>USD</td>\n      <td>179.53</td>\n      <td>...</td>\n      <td>15.78</td>\n      <td>180.37</td>\n      <td>117263816</td>\n      <td>AADNSQ</td>\n      <td>AAPL</td>\n      <td>154380122</td>\n      <td>183.22</td>\n      <td>116.33</td>\n      <td>0.34438</td>\n      <td>False</td>\n    </tr>\n    <tr>\n      <th>ABBV</th>\n      <td>5887802</td>\n      <td>close</td>\n      <td>1.07</td>\n      <td>0.00859</td>\n      <td>128.03</td>\n      <td>ifcaifol</td>\n      <td>1644895799915</td>\n      <td>Abbvie Inc</td>\n      <td>USD</td>\n      <td>132.27</td>\n      <td>...</td>\n      <td>30.22</td>\n      <td>129.57</td>\n      <td>7338957</td>\n      <td>ECE.C  IAXCHYSEOGTNWONKNR K</td>\n      <td>ABBV</td>\n      <td>8006396</td>\n      <td>130.34</td>\n      <td>98.6</td>\n      <td>0.245723</td>\n      <td>False</td>\n    </tr>\n    <tr>\n      <th>...</th>\n      <td>...</td>\n      <td>...</td>\n      <td>...</td>\n      <td>...</td>\n      <td>...</td>\n      <td>...</td>\n      <td>...</td>\n      <td>...</td>\n      <td>...</td>\n      <td>...</td>\n      <td>...</td>\n      <td>...</td>\n      <td>...</td>\n      <td>...</td>\n      <td>...</td>\n      <td>...</td>\n      <td>...</td>\n      <td>...</td>\n      <td>...</td>\n      <td>...</td>\n      <td>...</td>\n    </tr>\n    <tr>\n      <th>YUM</th>\n      <td>1507459</td>\n      <td>close</td>\n      <td>-1.78</td>\n      <td>-0.01327</td>\n      <td>138.34</td>\n      <td>iclfoifa</td>\n      <td>1691766205018</td>\n      <td>Yum Brands Inc.</td>\n      <td>USD</td>\n      <td>135.22</td>\n      <td>...</td>\n      <td>26.56</td>\n      <td>138.14</td>\n      <td>1311811</td>\n      <td>OCKENOG CRSH NTXEA NWI. YEKC</td>\n      <td>YUM</td>\n      <td>1460219</td>\n      <td>135.31</td>\n      <td>103.76</td>\n      <td>0.241765</td>\n      <td>False</td>\n    </tr>\n    <tr>\n      <th>ZBH</th>\n      <td>1722034</td>\n      <td>close</td>\n      <td>1</td>\n      <td>0.00795</td>\n      <td>127.68</td>\n      <td>cfaflioi</td>\n      <td>1708709823281</td>\n      <td>Zimmer Biomet Holdings Inc</td>\n      <td>USD</td>\n      <td>125.6</td>\n      <td>...</td>\n      <td>32.47</td>\n      <td>125.72</td>\n      <td>1702923</td>\n      <td>AIOECRK W N.E OXHGCCEYKT SNN</td>\n      <td>ZBH</td>\n      <td>1584753</td>\n      <td>188.8</td>\n      <td>121.47</td>\n      <td>-0.188994</td>\n      <td>False</td>\n    </tr>\n    <tr>\n      <th>ZBRA</th>\n      <td>237081</td>\n      <td>close</td>\n      <td>-9.58</td>\n      <td>-0.01567</td>\n      <td>622.72</td>\n      <td>lacffioi</td>\n      <td>1696267865646</td>\n      <td>Zebra Technologies Corp. - Class A</td>\n      <td>USD</td>\n      <td>617.07</td>\n      <td>...</td>\n      <td>39.13</td>\n      <td>634.61</td>\n      <td>222472</td>\n      <td>QSNAAD</td>\n      <td>ZBRA</td>\n      <td>304754</td>\n      <td>633</td>\n      <td>380</td>\n      <td>0.597117</td>\n      <td>False</td>\n    </tr>\n    <tr>\n      <th>ZION</th>\n      <td>1350166</td>\n      <td>close</td>\n      <td>-2.12</td>\n      <td>-0.03322</td>\n      <td>62.08</td>\n      <td>iacflfio</td>\n      <td>1666738268172</td>\n      <td>Zions Bancorporation N.A</td>\n      <td>USD</td>\n      <td>62.2</td>\n      <td>...</td>\n      <td>5.89</td>\n      <td>64.32</td>\n      <td>552116</td>\n      <td>DSAQAN</td>\n      <td>ZION</td>\n      <td>1442429</td>\n      <td>70.91</td>\n      <td>41.21</td>\n      <td>0.478327</td>\n      <td>False</td>\n    </tr>\n    <tr>\n      <th>ZTS</th>\n      <td>1575372</td>\n      <td>close</td>\n      <td>0.92</td>\n      <td>0.00409</td>\n      <td>241.6</td>\n      <td>filicofa</td>\n      <td>1697044173675</td>\n      <td>Zoetis Inc - Class A</td>\n      <td>USD</td>\n      <td>232.65</td>\n      <td>...</td>\n      <td>56.65</td>\n      <td>239.53</td>\n      <td>1231360</td>\n      <td>TIEKHE KOAROWSCYNNX.G EC NC</td>\n      <td>ZTS</td>\n      <td>1212915</td>\n      <td>234.21</td>\n      <td>144.3</td>\n      <td>0.4088</td>\n      <td>False</td>\n    </tr>\n  </tbody>\n</table>\n<p>505 rows × 56 columns</p>\n</div>"
     },
     "execution_count": 3,
     "metadata": {},
     "output_type": "execute_result"
    }
   ],
   "source": [
    "token = \"Tpk_c4b4d59b011048feb01f7063e39502b7\"\n",
    "ticks = get_sp_stock_ticks()\n",
    "get_quote(ticks=ticks, token=token)"
   ]
  },
  {
   "cell_type": "code",
   "execution_count": null,
   "metadata": {
    "pycharm": {
     "name": "#%%\n"
    }
   },
   "outputs": [],
   "source": []
  }
 ],
 "metadata": {
  "kernelspec": {
   "display_name": "Python 3 (ipykernel)",
   "language": "python",
   "name": "python3"
  },
  "language_info": {
   "codemirror_mode": {
    "name": "ipython",
    "version": 3
   },
   "file_extension": ".py",
   "mimetype": "text/x-python",
   "name": "python",
   "nbconvert_exporter": "python",
   "pygments_lexer": "ipython3",
   "version": "3.8.12"
  }
 },
 "nbformat": 4,
 "nbformat_minor": 1
}